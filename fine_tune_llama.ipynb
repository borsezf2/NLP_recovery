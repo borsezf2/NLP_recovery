{
 "cells": [
  {
   "cell_type": "code",
   "execution_count": 3,
   "metadata": {},
   "outputs": [],
   "source": [
    "import torch\n",
    "from datasets import load_dataset\n",
    "from transformers import (\n",
    "    AutoModelForCausalLM,\n",
    "    AutoTokenizer,\n",
    "    TrainingArguments,\n",
    "    Trainer,\n",
    "    DataCollatorForLanguageModeling\n",
    ")\n",
    "from peft import LoraConfig, get_peft_model\n",
    "import ollama\n",
    "import json"
   ]
  },
  {
   "cell_type": "code",
   "execution_count": 5,
   "metadata": {},
   "outputs": [
    {
     "name": "stdout",
     "output_type": "stream",
     "text": [
      "Using device: cpu\n"
     ]
    }
   ],
   "source": [
    "# Check GPU availability\n",
    "device = torch.device(\"cuda\" if torch.cuda.is_available() else \"cpu\")\n",
    "print(f\"Using device: {device}\")\n",
    "\n",
    "if device.type == \"cuda\":\n",
    "    print(f\"GPU Name: {torch.cuda.get_device_name(0)}\")\n",
    "    print(f\"Available GPU memory: {torch.cuda.get_device_properties(0).total_memory / 1e9:.2f} GB\")\n"
   ]
  },
  {
   "cell_type": "code",
   "execution_count": 4,
   "metadata": {},
   "outputs": [
    {
     "name": "stdout",
     "output_type": "stream",
     "text": [
      "Model details: {\n",
      "  \"license\": \"LLAMA 2 COMMUNITY LICENSE AGREEMENT\\t\\nLlama 2 Version Release Date: July 18, 2023\\n\\n\\\"Agreement\\\" means the terms and conditions for use, reproduction, distribution and \\nmodification of the Llama Materials set forth herein.\\n\\n\\\"Documentation\\\" means the specifications, manuals and documentation \\naccompanying Llama 2 distributed by Meta at ai.meta.com/resources/models-and-\\nlibraries/llama-downloads/.\\n\\n\\\"Licensee\\\" or \\\"you\\\" means you, or your employer or any other person or entity (if \\nyou are entering into this Agreement on such person or entity's behalf), of the age \\nrequired under applicable laws, rules or regulations to provide legal consent and that \\nhas legal authority to bind your employer or such other person or entity if you are \\nentering in this Agreement on their behalf.\\n\\n\\\"Llama 2\\\" means the foundational large language models and software and \\nalgorithms, including machine-learning model code, trained model weights, \\ninference-enabling code, training-enabling code, fine-tuning enabling code and other \\nelements of the foregoing distributed by Meta at ai.meta.com/resources/models-and-\\nlibraries/llama-downloads/.\\n\\n\\\"Llama Materials\\\" means, collectively, Meta's proprietary Llama 2 and \\nDocumentation (and any portion thereof) made available under this Agreement.\\n\\n\\\"Meta\\\" or \\\"we\\\" means Meta Platforms Ireland Limited (if you are located in or, if you \\nare an entity, your principal place of business is in the EEA or Switzerland) and Meta \\nPlatforms, Inc. (if you are located outside of the EEA or Switzerland). \\n\\nBy clicking \\\"I Accept\\\" below or by using or distributing any portion or element of the \\nLlama Materials, you agree to be bound by this Agreement.\\n\\n1. License Rights and Redistribution. \\n\\n      a. Grant of Rights. You are granted a non-exclusive, worldwide, non-\\ntransferable and royalty-free limited license under Meta's intellectual property or \\nother rights owned by Meta embodied in the Llama Materials to use, reproduce, \\ndistribute, copy, create derivative works of, and make modifications to the Llama \\nMaterials.  \\n      \\n      b. Redistribution and Use.  \\n\\n            i. If you distribute or make the Llama Materials, or any derivative works \\nthereof, available to a third party, you shall provide a copy of this Agreement to such \\nthird party. \\n            ii.  If you receive Llama Materials, or any derivative works thereof, from \\na Licensee as part of an integrated end user product, then Section 2 of this \\nAgreement will not apply to you. \\n\\n            iii. You must retain in all copies of the Llama Materials that you \\ndistribute the following attribution notice within a \\\"Notice\\\" text file distributed as a \\npart of such copies: \\\"Llama 2 is licensed under the LLAMA 2 Community License, \\nCopyright (c) Meta Platforms, Inc. All Rights Reserved.\\\"\\n\\n            iv. Your use of the Llama Materials must comply with applicable laws \\nand regulations (including trade compliance laws and regulations) and adhere to the \\nAcceptable Use Policy for the Llama Materials (available at \\nhttps://ai.meta.com/llama/use-policy), which is hereby incorporated by reference into \\nthis Agreement.\\n\\n            v. You will not use the Llama Materials or any output or results of the \\nLlama Materials to improve any other large language model (excluding Llama 2 or \\nderivative works thereof).  \\n\\n2. Additional Commercial Terms. If, on the Llama 2 version release date, the \\nmonthly active users of the products or services made available by or for Licensee, \\nor Licensee's affiliates, is greater than 700 million monthly active users in the \\npreceding calendar month, you must request a license from Meta, which Meta may \\ngrant to you in its sole discretion, and you are not authorized to exercise any of the \\nrights under this Agreement unless or until Meta otherwise expressly grants you \\nsuch rights.\\n            \\n3. Disclaimer of Warranty. UNLESS REQUIRED BY APPLICABLE LAW, THE \\nLLAMA MATERIALS AND ANY OUTPUT AND RESULTS THEREFROM ARE \\nPROVIDED ON AN \\\"AS IS\\\" BASIS, WITHOUT WARRANTIES OF ANY KIND, \\nEITHER EXPRESS OR IMPLIED, INCLUDING, WITHOUT LIMITATION, ANY \\nWARRANTIES OF TITLE, NON-INFRINGEMENT, MERCHANTABILITY, OR \\nFITNESS FOR A PARTICULAR PURPOSE. YOU ARE SOLELY RESPONSIBLE \\nFOR DETERMINING THE APPROPRIATENESS OF USING OR REDISTRIBUTING \\nTHE LLAMA MATERIALS AND ASSUME ANY RISKS ASSOCIATED WITH YOUR \\nUSE OF THE LLAMA MATERIALS AND ANY OUTPUT AND RESULTS.\\n\\n4. Limitation of Liability. IN NO EVENT WILL META OR ITS AFFILIATES BE \\nLIABLE UNDER ANY THEORY OF LIABILITY, WHETHER IN CONTRACT, TORT, \\nNEGLIGENCE, PRODUCTS LIABILITY, OR OTHERWISE, ARISING OUT OF THIS \\nAGREEMENT, FOR ANY LOST PROFITS OR ANY INDIRECT, SPECIAL, \\nCONSEQUENTIAL, INCIDENTAL, EXEMPLARY OR PUNITIVE DAMAGES, EVEN \\nIF META OR ITS AFFILIATES HAVE BEEN ADVISED OF THE POSSIBILITY OF \\nANY OF THE FOREGOING.\\n \\n5. Intellectual Property.\\n\\n      a. No trademark licenses are granted under this Agreement, and in \\nconnection with the Llama Materials, neither Meta nor Licensee may use any name \\nor mark owned by or associated with the other or any of its affiliates, except as \\nrequired for reasonable and customary use in describing and redistributing the \\nLlama Materials.\\n\\n      b. Subject to Meta's ownership of Llama Materials and derivatives made by or \\nfor Meta, with respect to any derivative works and modifications of the Llama \\nMaterials that are made by you, as between you and Meta, you are and will be the \\nowner of such derivative works and modifications.\\n\\n      c. If you institute litigation or other proceedings against Meta or any entity \\n(including a cross-claim or counterclaim in a lawsuit) alleging that the Llama \\nMaterials or Llama 2 outputs or results, or any portion of any of the foregoing, \\nconstitutes infringement of intellectual property or other rights owned or licensable \\nby you, then any licenses granted to you under this Agreement shall terminate as of \\nthe date such litigation or claim is filed or instituted. You will indemnify and hold \\nharmless Meta from and against any claim by any third party arising out of or related \\nto your use or distribution of the Llama Materials.\\n\\n6. Term and Termination. The term of this Agreement will commence upon your \\nacceptance of this Agreement or access to the Llama Materials and will continue in \\nfull force and effect until terminated in accordance with the terms and conditions \\nherein. Meta may terminate this Agreement if you are in breach of any term or \\ncondition of this Agreement. Upon termination of this Agreement, you shall delete \\nand cease use of the Llama Materials. Sections 3, 4 and 7 shall survive the \\ntermination of this Agreement. \\n\\n7. Governing Law and Jurisdiction. This Agreement will be governed and \\nconstrued under the laws of the State of California without regard to choice of law \\nprinciples, and the UN Convention on Contracts for the International Sale of Goods \\ndoes not apply to this Agreement. The courts of California shall have exclusive \\njurisdiction of any dispute arising out of this Agreement. \\n\\n\\n# Llama 2 Acceptable Use Policy\\n\\nMeta is committed to promoting safe and fair use of its tools and features, including Llama 2. If you access or use Llama 2, you agree to this Acceptable Use Policy (\\u201cPolicy\\u201d). The most recent copy of this policy can be found at [ai.meta.com/llama/use-policy](http://ai.meta.com/llama/use-policy).\\n\\n## Prohibited Uses\\nWe want everyone to use Llama 2 safely and responsibly. You agree you will not use, or allow others to use, Llama 2 to: \\n\\n1. Violate the law or others\\u2019 rights, including to:\\n    1. Engage in, promote, generate, contribute to, encourage, plan, incite, or further illegal or unlawful activity or content, such as: \\n        1. Violence or terrorism \\n        2. Exploitation or harm to children, including the solicitation, creation, acquisition, or dissemination of child exploitative content or failure to report Child Sexual Abuse Material\\n        3. Human trafficking, exploitation, and sexual violence\\n        4. The illegal distribution of information or materials to minors, including obscene materials, or failure to employ legally required age-gating in connection with such information or materials.\\n        5. Sexual solicitation\\n        6. Any other criminal activity\\n    2. Engage in, promote, incite, or facilitate the harassment, abuse, threatening, or bullying of individuals or groups of individuals\\n    3. Engage in, promote, incite, or facilitate discrimination or other unlawful or harmful conduct in the provision of employment, employment benefits, credit, housing, other economic benefits, or other essential goods and services\\n    4. Engage in the unauthorized or unlicensed practice of any profession including, but not limited to, financial, legal, medical/health, or related professional practices \\n    5. Collect, process, disclose, generate, or infer health, demographic, or other sensitive personal or private information about individuals without rights and consents required by applicable laws\\n    6. Engage in or facilitate any action or generate any content that infringes, misappropriates, or otherwise violates any third-party rights, including the outputs or results of any products or services using the Llama 2 Materials\\n    7. Create, generate, or facilitate the creation of malicious code, malware, computer viruses or do anything else that could disable, overburden, interfere with or impair the proper working, integrity, operation or appearance of a website or computer system \\n\\n\\n\\n2. Engage in, promote, incite, facilitate, or assist in the planning or development of activities that present a risk of death or bodily harm to individuals, including use of Llama 2 related to the following:\\n    1. Military, warfare, nuclear industries or applications, espionage, use for materials or activities that are subject to the International Traffic Arms Regulations (ITAR) maintained by the United States Department of State\\n    2. Guns and illegal weapons (including weapon development)\\n    3. Illegal drugs and regulated/controlled substances\\n    4. Operation of critical infrastructure, transportation technologies, or heavy machinery\\n    5. Self-harm or harm to others, including suicide, cutting, and eating disorders\\n    6. Any content intended to incite or promote violence, abuse, or any infliction of bodily harm to an individual\\n\\n\\n\\n3. Intentionally deceive or mislead others, including use of Llama 2 related to the following:\\n    1. Generating, promoting, or furthering fraud or the creation or promotion of disinformation\\n    2. Generating, promoting, or furthering defamatory content, including the creation of defamatory statements, images, or other content\\n    3. Generating, promoting, or further distributing spam\\n    4. Impersonating another individual without consent, authorization, or legal right\\n    5. Representing that the use of Llama 2 or outputs are human-generated\\n    6. Generating or facilitating false online engagement, including fake reviews and other means of fake online engagement \\n4. Fail to appropriately disclose to end users any known dangers of your AI system \\n\\nPlease report any violation of this Policy, software \\u201cbug,\\u201d or other problems that could lead to a violation of this Policy through one of the following means:\\n\\n* Reporting issues with the model: [github.com/facebookresearch/llama](http://github.com/facebookresearch/llama)\\n* Reporting risky content generated by the model: [developers.facebook.com/llama_output_feedback](http://developers.facebook.com/llama_output_feedback)\\n* Reporting bugs and security concerns: [facebook.com/whitehat/info](http://facebook.com/whitehat/info)\\n* Reporting violations of the Acceptable Use Policy or unlicensed uses of Llama: [LlamaUseReport@meta.com](mailto:LlamaUseReport@meta.com)\\n\\n\",\n",
      "  \"modelfile\": \"# Modelfile generated by \\\"ollama show\\\"\\n# To build a new Modelfile based on this, replace FROM with:\\n# FROM llama2:7b\\n\\nFROM /usr/share/ollama/.ollama/models/blobs/sha256-8934d96d3f08982e95922b2b7a2c626a1fe873d7c3b06e8e56d7bc0a1fef9246\\nTEMPLATE \\\"[INST] <<SYS>>{{ .System }}<</SYS>>\\n\\n{{ .Prompt }} [/INST]\\n\\\"\\nPARAMETER stop [INST]\\nPARAMETER stop [/INST]\\nPARAMETER stop <<SYS>>\\nPARAMETER stop <</SYS>>\\nLICENSE \\\"\\\"\\\"LLAMA 2 COMMUNITY LICENSE AGREEMENT\\t\\nLlama 2 Version Release Date: July 18, 2023\\n\\n\\\"Agreement\\\" means the terms and conditions for use, reproduction, distribution and \\nmodification of the Llama Materials set forth herein.\\n\\n\\\"Documentation\\\" means the specifications, manuals and documentation \\naccompanying Llama 2 distributed by Meta at ai.meta.com/resources/models-and-\\nlibraries/llama-downloads/.\\n\\n\\\"Licensee\\\" or \\\"you\\\" means you, or your employer or any other person or entity (if \\nyou are entering into this Agreement on such person or entity's behalf), of the age \\nrequired under applicable laws, rules or regulations to provide legal consent and that \\nhas legal authority to bind your employer or such other person or entity if you are \\nentering in this Agreement on their behalf.\\n\\n\\\"Llama 2\\\" means the foundational large language models and software and \\nalgorithms, including machine-learning model code, trained model weights, \\ninference-enabling code, training-enabling code, fine-tuning enabling code and other \\nelements of the foregoing distributed by Meta at ai.meta.com/resources/models-and-\\nlibraries/llama-downloads/.\\n\\n\\\"Llama Materials\\\" means, collectively, Meta's proprietary Llama 2 and \\nDocumentation (and any portion thereof) made available under this Agreement.\\n\\n\\\"Meta\\\" or \\\"we\\\" means Meta Platforms Ireland Limited (if you are located in or, if you \\nare an entity, your principal place of business is in the EEA or Switzerland) and Meta \\nPlatforms, Inc. (if you are located outside of the EEA or Switzerland). \\n\\nBy clicking \\\"I Accept\\\" below or by using or distributing any portion or element of the \\nLlama Materials, you agree to be bound by this Agreement.\\n\\n1. License Rights and Redistribution. \\n\\n      a. Grant of Rights. You are granted a non-exclusive, worldwide, non-\\ntransferable and royalty-free limited license under Meta's intellectual property or \\nother rights owned by Meta embodied in the Llama Materials to use, reproduce, \\ndistribute, copy, create derivative works of, and make modifications to the Llama \\nMaterials.  \\n      \\n      b. Redistribution and Use.  \\n\\n            i. If you distribute or make the Llama Materials, or any derivative works \\nthereof, available to a third party, you shall provide a copy of this Agreement to such \\nthird party. \\n            ii.  If you receive Llama Materials, or any derivative works thereof, from \\na Licensee as part of an integrated end user product, then Section 2 of this \\nAgreement will not apply to you. \\n\\n            iii. You must retain in all copies of the Llama Materials that you \\ndistribute the following attribution notice within a \\\"Notice\\\" text file distributed as a \\npart of such copies: \\\"Llama 2 is licensed under the LLAMA 2 Community License, \\nCopyright (c) Meta Platforms, Inc. All Rights Reserved.\\\"\\n\\n            iv. Your use of the Llama Materials must comply with applicable laws \\nand regulations (including trade compliance laws and regulations) and adhere to the \\nAcceptable Use Policy for the Llama Materials (available at \\nhttps://ai.meta.com/llama/use-policy), which is hereby incorporated by reference into \\nthis Agreement.\\n\\n            v. You will not use the Llama Materials or any output or results of the \\nLlama Materials to improve any other large language model (excluding Llama 2 or \\nderivative works thereof).  \\n\\n2. Additional Commercial Terms. If, on the Llama 2 version release date, the \\nmonthly active users of the products or services made available by or for Licensee, \\nor Licensee's affiliates, is greater than 700 million monthly active users in the \\npreceding calendar month, you must request a license from Meta, which Meta may \\ngrant to you in its sole discretion, and you are not authorized to exercise any of the \\nrights under this Agreement unless or until Meta otherwise expressly grants you \\nsuch rights.\\n            \\n3. Disclaimer of Warranty. UNLESS REQUIRED BY APPLICABLE LAW, THE \\nLLAMA MATERIALS AND ANY OUTPUT AND RESULTS THEREFROM ARE \\nPROVIDED ON AN \\\"AS IS\\\" BASIS, WITHOUT WARRANTIES OF ANY KIND, \\nEITHER EXPRESS OR IMPLIED, INCLUDING, WITHOUT LIMITATION, ANY \\nWARRANTIES OF TITLE, NON-INFRINGEMENT, MERCHANTABILITY, OR \\nFITNESS FOR A PARTICULAR PURPOSE. YOU ARE SOLELY RESPONSIBLE \\nFOR DETERMINING THE APPROPRIATENESS OF USING OR REDISTRIBUTING \\nTHE LLAMA MATERIALS AND ASSUME ANY RISKS ASSOCIATED WITH YOUR \\nUSE OF THE LLAMA MATERIALS AND ANY OUTPUT AND RESULTS.\\n\\n4. Limitation of Liability. IN NO EVENT WILL META OR ITS AFFILIATES BE \\nLIABLE UNDER ANY THEORY OF LIABILITY, WHETHER IN CONTRACT, TORT, \\nNEGLIGENCE, PRODUCTS LIABILITY, OR OTHERWISE, ARISING OUT OF THIS \\nAGREEMENT, FOR ANY LOST PROFITS OR ANY INDIRECT, SPECIAL, \\nCONSEQUENTIAL, INCIDENTAL, EXEMPLARY OR PUNITIVE DAMAGES, EVEN \\nIF META OR ITS AFFILIATES HAVE BEEN ADVISED OF THE POSSIBILITY OF \\nANY OF THE FOREGOING.\\n \\n5. Intellectual Property.\\n\\n      a. No trademark licenses are granted under this Agreement, and in \\nconnection with the Llama Materials, neither Meta nor Licensee may use any name \\nor mark owned by or associated with the other or any of its affiliates, except as \\nrequired for reasonable and customary use in describing and redistributing the \\nLlama Materials.\\n\\n      b. Subject to Meta's ownership of Llama Materials and derivatives made by or \\nfor Meta, with respect to any derivative works and modifications of the Llama \\nMaterials that are made by you, as between you and Meta, you are and will be the \\nowner of such derivative works and modifications.\\n\\n      c. If you institute litigation or other proceedings against Meta or any entity \\n(including a cross-claim or counterclaim in a lawsuit) alleging that the Llama \\nMaterials or Llama 2 outputs or results, or any portion of any of the foregoing, \\nconstitutes infringement of intellectual property or other rights owned or licensable \\nby you, then any licenses granted to you under this Agreement shall terminate as of \\nthe date such litigation or claim is filed or instituted. You will indemnify and hold \\nharmless Meta from and against any claim by any third party arising out of or related \\nto your use or distribution of the Llama Materials.\\n\\n6. Term and Termination. The term of this Agreement will commence upon your \\nacceptance of this Agreement or access to the Llama Materials and will continue in \\nfull force and effect until terminated in accordance with the terms and conditions \\nherein. Meta may terminate this Agreement if you are in breach of any term or \\ncondition of this Agreement. Upon termination of this Agreement, you shall delete \\nand cease use of the Llama Materials. Sections 3, 4 and 7 shall survive the \\ntermination of this Agreement. \\n\\n7. Governing Law and Jurisdiction. This Agreement will be governed and \\nconstrued under the laws of the State of California without regard to choice of law \\nprinciples, and the UN Convention on Contracts for the International Sale of Goods \\ndoes not apply to this Agreement. The courts of California shall have exclusive \\njurisdiction of any dispute arising out of this Agreement. \\n\\n\\\"\\\"\\\"\\nLICENSE \\\"# Llama 2 Acceptable Use Policy\\n\\nMeta is committed to promoting safe and fair use of its tools and features, including Llama 2. If you access or use Llama 2, you agree to this Acceptable Use Policy (\\u201cPolicy\\u201d). The most recent copy of this policy can be found at [ai.meta.com/llama/use-policy](http://ai.meta.com/llama/use-policy).\\n\\n## Prohibited Uses\\nWe want everyone to use Llama 2 safely and responsibly. You agree you will not use, or allow others to use, Llama 2 to: \\n\\n1. Violate the law or others\\u2019 rights, including to:\\n    1. Engage in, promote, generate, contribute to, encourage, plan, incite, or further illegal or unlawful activity or content, such as: \\n        1. Violence or terrorism \\n        2. Exploitation or harm to children, including the solicitation, creation, acquisition, or dissemination of child exploitative content or failure to report Child Sexual Abuse Material\\n        3. Human trafficking, exploitation, and sexual violence\\n        4. The illegal distribution of information or materials to minors, including obscene materials, or failure to employ legally required age-gating in connection with such information or materials.\\n        5. Sexual solicitation\\n        6. Any other criminal activity\\n    2. Engage in, promote, incite, or facilitate the harassment, abuse, threatening, or bullying of individuals or groups of individuals\\n    3. Engage in, promote, incite, or facilitate discrimination or other unlawful or harmful conduct in the provision of employment, employment benefits, credit, housing, other economic benefits, or other essential goods and services\\n    4. Engage in the unauthorized or unlicensed practice of any profession including, but not limited to, financial, legal, medical/health, or related professional practices \\n    5. Collect, process, disclose, generate, or infer health, demographic, or other sensitive personal or private information about individuals without rights and consents required by applicable laws\\n    6. Engage in or facilitate any action or generate any content that infringes, misappropriates, or otherwise violates any third-party rights, including the outputs or results of any products or services using the Llama 2 Materials\\n    7. Create, generate, or facilitate the creation of malicious code, malware, computer viruses or do anything else that could disable, overburden, interfere with or impair the proper working, integrity, operation or appearance of a website or computer system \\n\\n\\n\\n2. Engage in, promote, incite, facilitate, or assist in the planning or development of activities that present a risk of death or bodily harm to individuals, including use of Llama 2 related to the following:\\n    1. Military, warfare, nuclear industries or applications, espionage, use for materials or activities that are subject to the International Traffic Arms Regulations (ITAR) maintained by the United States Department of State\\n    2. Guns and illegal weapons (including weapon development)\\n    3. Illegal drugs and regulated/controlled substances\\n    4. Operation of critical infrastructure, transportation technologies, or heavy machinery\\n    5. Self-harm or harm to others, including suicide, cutting, and eating disorders\\n    6. Any content intended to incite or promote violence, abuse, or any infliction of bodily harm to an individual\\n\\n\\n\\n3. Intentionally deceive or mislead others, including use of Llama 2 related to the following:\\n    1. Generating, promoting, or furthering fraud or the creation or promotion of disinformation\\n    2. Generating, promoting, or furthering defamatory content, including the creation of defamatory statements, images, or other content\\n    3. Generating, promoting, or further distributing spam\\n    4. Impersonating another individual without consent, authorization, or legal right\\n    5. Representing that the use of Llama 2 or outputs are human-generated\\n    6. Generating or facilitating false online engagement, including fake reviews and other means of fake online engagement \\n4. Fail to appropriately disclose to end users any known dangers of your AI system \\n\\nPlease report any violation of this Policy, software \\u201cbug,\\u201d or other problems that could lead to a violation of this Policy through one of the following means:\\n\\n* Reporting issues with the model: [github.com/facebookresearch/llama](http://github.com/facebookresearch/llama)\\n* Reporting risky content generated by the model: [developers.facebook.com/llama_output_feedback](http://developers.facebook.com/llama_output_feedback)\\n* Reporting bugs and security concerns: [facebook.com/whitehat/info](http://facebook.com/whitehat/info)\\n* Reporting violations of the Acceptable Use Policy or unlicensed uses of Llama: [LlamaUseReport@meta.com](mailto:LlamaUseReport@meta.com)\\n\\n\\\"\\n\",\n",
      "  \"parameters\": \"stop                           \\\"[INST]\\\"\\nstop                           \\\"[/INST]\\\"\\nstop                           \\\"<<SYS>>\\\"\\nstop                           \\\"<</SYS>>\\\"\",\n",
      "  \"template\": \"[INST] <<SYS>>{{ .System }}<</SYS>>\\n\\n{{ .Prompt }} [/INST]\\n\",\n",
      "  \"details\": {\n",
      "    \"parent_model\": \"\",\n",
      "    \"format\": \"gguf\",\n",
      "    \"family\": \"llama\",\n",
      "    \"families\": [\n",
      "      \"llama\"\n",
      "    ],\n",
      "    \"parameter_size\": \"7B\",\n",
      "    \"quantization_level\": \"Q4_0\"\n",
      "  },\n",
      "  \"model_info\": {\n",
      "    \"general.architecture\": \"llama\",\n",
      "    \"general.file_type\": 2,\n",
      "    \"general.parameter_count\": 6738415616,\n",
      "    \"general.quantization_version\": 2,\n",
      "    \"llama.attention.head_count\": 32,\n",
      "    \"llama.attention.head_count_kv\": 32,\n",
      "    \"llama.attention.layer_norm_rms_epsilon\": 1e-05,\n",
      "    \"llama.block_count\": 32,\n",
      "    \"llama.context_length\": 4096,\n",
      "    \"llama.embedding_length\": 4096,\n",
      "    \"llama.feed_forward_length\": 11008,\n",
      "    \"llama.rope.dimension_count\": 128,\n",
      "    \"tokenizer.ggml.add_bos_token\": true,\n",
      "    \"tokenizer.ggml.add_eos_token\": false,\n",
      "    \"tokenizer.ggml.bos_token_id\": 1,\n",
      "    \"tokenizer.ggml.eos_token_id\": 2,\n",
      "    \"tokenizer.ggml.merges\": null,\n",
      "    \"tokenizer.ggml.model\": \"llama\",\n",
      "    \"tokenizer.ggml.scores\": null,\n",
      "    \"tokenizer.ggml.token_type\": null,\n",
      "    \"tokenizer.ggml.tokens\": null,\n",
      "    \"tokenizer.ggml.unknown_token_id\": 0\n",
      "  },\n",
      "  \"modified_at\": \"2024-09-24T20:34:19.892355348+05:30\"\n",
      "}\n",
      "Using model path: /usr/share/ollama/.ollama/models/blobs/sha256-8934d96d3f08982e95922b2b7a2c626a1fe873d7c3b06e8e56d7bc0a1fef9246\n"
     ]
    }
   ],
   "source": [
    "# 2. Load the LLaMA 2 7B model and tokenizer using Ollama\n",
    "model_name = \"llama2:7b\"\n",
    "ollama.pull(model_name)  # Ensure the model is downloaded\n",
    "\n",
    "# Get model details from Ollama\n",
    "model_details = ollama.show(model_name)\n",
    "print(\"Model details:\", json.dumps(model_details, indent=2))\n",
    "\n",
    "# Instead of directly accessing 'base_model', we'll use a more flexible approach\n",
    "model_path = None\n",
    "if 'modelfile' in model_details:\n",
    "    for line in model_details['modelfile'].split('\\n'):\n",
    "        if line.startswith('FROM '):\n",
    "            model_path = line.split(' ')[1].strip()\n",
    "            break\n",
    "\n",
    "if not model_path:\n",
    "    raise ValueError(\"Could not determine model path from Ollama details\")\n",
    "\n",
    "print(f\"Using model path: {model_path}\")"
   ]
  },
  {
   "cell_type": "code",
   "execution_count": 8,
   "metadata": {},
   "outputs": [
    {
     "data": {
      "text/plain": [
       "{'license': 'LLAMA 2 COMMUNITY LICENSE AGREEMENT\\t\\nLlama 2 Version Release Date: July 18, 2023\\n\\n\"Agreement\" means the terms and conditions for use, reproduction, distribution and \\nmodification of the Llama Materials set forth herein.\\n\\n\"Documentation\" means the specifications, manuals and documentation \\naccompanying Llama 2 distributed by Meta at ai.meta.com/resources/models-and-\\nlibraries/llama-downloads/.\\n\\n\"Licensee\" or \"you\" means you, or your employer or any other person or entity (if \\nyou are entering into this Agreement on such person or entity\\'s behalf), of the age \\nrequired under applicable laws, rules or regulations to provide legal consent and that \\nhas legal authority to bind your employer or such other person or entity if you are \\nentering in this Agreement on their behalf.\\n\\n\"Llama 2\" means the foundational large language models and software and \\nalgorithms, including machine-learning model code, trained model weights, \\ninference-enabling code, training-enabling code, fine-tuning enabling code and other \\nelements of the foregoing distributed by Meta at ai.meta.com/resources/models-and-\\nlibraries/llama-downloads/.\\n\\n\"Llama Materials\" means, collectively, Meta\\'s proprietary Llama 2 and \\nDocumentation (and any portion thereof) made available under this Agreement.\\n\\n\"Meta\" or \"we\" means Meta Platforms Ireland Limited (if you are located in or, if you \\nare an entity, your principal place of business is in the EEA or Switzerland) and Meta \\nPlatforms, Inc. (if you are located outside of the EEA or Switzerland). \\n\\nBy clicking \"I Accept\" below or by using or distributing any portion or element of the \\nLlama Materials, you agree to be bound by this Agreement.\\n\\n1. License Rights and Redistribution. \\n\\n      a. Grant of Rights. You are granted a non-exclusive, worldwide, non-\\ntransferable and royalty-free limited license under Meta\\'s intellectual property or \\nother rights owned by Meta embodied in the Llama Materials to use, reproduce, \\ndistribute, copy, create derivative works of, and make modifications to the Llama \\nMaterials.  \\n      \\n      b. Redistribution and Use.  \\n\\n            i. If you distribute or make the Llama Materials, or any derivative works \\nthereof, available to a third party, you shall provide a copy of this Agreement to such \\nthird party. \\n            ii.  If you receive Llama Materials, or any derivative works thereof, from \\na Licensee as part of an integrated end user product, then Section 2 of this \\nAgreement will not apply to you. \\n\\n            iii. You must retain in all copies of the Llama Materials that you \\ndistribute the following attribution notice within a \"Notice\" text file distributed as a \\npart of such copies: \"Llama 2 is licensed under the LLAMA 2 Community License, \\nCopyright (c) Meta Platforms, Inc. All Rights Reserved.\"\\n\\n            iv. Your use of the Llama Materials must comply with applicable laws \\nand regulations (including trade compliance laws and regulations) and adhere to the \\nAcceptable Use Policy for the Llama Materials (available at \\nhttps://ai.meta.com/llama/use-policy), which is hereby incorporated by reference into \\nthis Agreement.\\n\\n            v. You will not use the Llama Materials or any output or results of the \\nLlama Materials to improve any other large language model (excluding Llama 2 or \\nderivative works thereof).  \\n\\n2. Additional Commercial Terms. If, on the Llama 2 version release date, the \\nmonthly active users of the products or services made available by or for Licensee, \\nor Licensee\\'s affiliates, is greater than 700 million monthly active users in the \\npreceding calendar month, you must request a license from Meta, which Meta may \\ngrant to you in its sole discretion, and you are not authorized to exercise any of the \\nrights under this Agreement unless or until Meta otherwise expressly grants you \\nsuch rights.\\n            \\n3. Disclaimer of Warranty. UNLESS REQUIRED BY APPLICABLE LAW, THE \\nLLAMA MATERIALS AND ANY OUTPUT AND RESULTS THEREFROM ARE \\nPROVIDED ON AN \"AS IS\" BASIS, WITHOUT WARRANTIES OF ANY KIND, \\nEITHER EXPRESS OR IMPLIED, INCLUDING, WITHOUT LIMITATION, ANY \\nWARRANTIES OF TITLE, NON-INFRINGEMENT, MERCHANTABILITY, OR \\nFITNESS FOR A PARTICULAR PURPOSE. YOU ARE SOLELY RESPONSIBLE \\nFOR DETERMINING THE APPROPRIATENESS OF USING OR REDISTRIBUTING \\nTHE LLAMA MATERIALS AND ASSUME ANY RISKS ASSOCIATED WITH YOUR \\nUSE OF THE LLAMA MATERIALS AND ANY OUTPUT AND RESULTS.\\n\\n4. Limitation of Liability. IN NO EVENT WILL META OR ITS AFFILIATES BE \\nLIABLE UNDER ANY THEORY OF LIABILITY, WHETHER IN CONTRACT, TORT, \\nNEGLIGENCE, PRODUCTS LIABILITY, OR OTHERWISE, ARISING OUT OF THIS \\nAGREEMENT, FOR ANY LOST PROFITS OR ANY INDIRECT, SPECIAL, \\nCONSEQUENTIAL, INCIDENTAL, EXEMPLARY OR PUNITIVE DAMAGES, EVEN \\nIF META OR ITS AFFILIATES HAVE BEEN ADVISED OF THE POSSIBILITY OF \\nANY OF THE FOREGOING.\\n \\n5. Intellectual Property.\\n\\n      a. No trademark licenses are granted under this Agreement, and in \\nconnection with the Llama Materials, neither Meta nor Licensee may use any name \\nor mark owned by or associated with the other or any of its affiliates, except as \\nrequired for reasonable and customary use in describing and redistributing the \\nLlama Materials.\\n\\n      b. Subject to Meta\\'s ownership of Llama Materials and derivatives made by or \\nfor Meta, with respect to any derivative works and modifications of the Llama \\nMaterials that are made by you, as between you and Meta, you are and will be the \\nowner of such derivative works and modifications.\\n\\n      c. If you institute litigation or other proceedings against Meta or any entity \\n(including a cross-claim or counterclaim in a lawsuit) alleging that the Llama \\nMaterials or Llama 2 outputs or results, or any portion of any of the foregoing, \\nconstitutes infringement of intellectual property or other rights owned or licensable \\nby you, then any licenses granted to you under this Agreement shall terminate as of \\nthe date such litigation or claim is filed or instituted. You will indemnify and hold \\nharmless Meta from and against any claim by any third party arising out of or related \\nto your use or distribution of the Llama Materials.\\n\\n6. Term and Termination. The term of this Agreement will commence upon your \\nacceptance of this Agreement or access to the Llama Materials and will continue in \\nfull force and effect until terminated in accordance with the terms and conditions \\nherein. Meta may terminate this Agreement if you are in breach of any term or \\ncondition of this Agreement. Upon termination of this Agreement, you shall delete \\nand cease use of the Llama Materials. Sections 3, 4 and 7 shall survive the \\ntermination of this Agreement. \\n\\n7. Governing Law and Jurisdiction. This Agreement will be governed and \\nconstrued under the laws of the State of California without regard to choice of law \\nprinciples, and the UN Convention on Contracts for the International Sale of Goods \\ndoes not apply to this Agreement. The courts of California shall have exclusive \\njurisdiction of any dispute arising out of this Agreement. \\n\\n\\n# Llama 2 Acceptable Use Policy\\n\\nMeta is committed to promoting safe and fair use of its tools and features, including Llama 2. If you access or use Llama 2, you agree to this Acceptable Use Policy (“Policy”). The most recent copy of this policy can be found at [ai.meta.com/llama/use-policy](http://ai.meta.com/llama/use-policy).\\n\\n## Prohibited Uses\\nWe want everyone to use Llama 2 safely and responsibly. You agree you will not use, or allow others to use, Llama 2 to: \\n\\n1. Violate the law or others’ rights, including to:\\n    1. Engage in, promote, generate, contribute to, encourage, plan, incite, or further illegal or unlawful activity or content, such as: \\n        1. Violence or terrorism \\n        2. Exploitation or harm to children, including the solicitation, creation, acquisition, or dissemination of child exploitative content or failure to report Child Sexual Abuse Material\\n        3. Human trafficking, exploitation, and sexual violence\\n        4. The illegal distribution of information or materials to minors, including obscene materials, or failure to employ legally required age-gating in connection with such information or materials.\\n        5. Sexual solicitation\\n        6. Any other criminal activity\\n    2. Engage in, promote, incite, or facilitate the harassment, abuse, threatening, or bullying of individuals or groups of individuals\\n    3. Engage in, promote, incite, or facilitate discrimination or other unlawful or harmful conduct in the provision of employment, employment benefits, credit, housing, other economic benefits, or other essential goods and services\\n    4. Engage in the unauthorized or unlicensed practice of any profession including, but not limited to, financial, legal, medical/health, or related professional practices \\n    5. Collect, process, disclose, generate, or infer health, demographic, or other sensitive personal or private information about individuals without rights and consents required by applicable laws\\n    6. Engage in or facilitate any action or generate any content that infringes, misappropriates, or otherwise violates any third-party rights, including the outputs or results of any products or services using the Llama 2 Materials\\n    7. Create, generate, or facilitate the creation of malicious code, malware, computer viruses or do anything else that could disable, overburden, interfere with or impair the proper working, integrity, operation or appearance of a website or computer system \\n\\n\\n\\n2. Engage in, promote, incite, facilitate, or assist in the planning or development of activities that present a risk of death or bodily harm to individuals, including use of Llama 2 related to the following:\\n    1. Military, warfare, nuclear industries or applications, espionage, use for materials or activities that are subject to the International Traffic Arms Regulations (ITAR) maintained by the United States Department of State\\n    2. Guns and illegal weapons (including weapon development)\\n    3. Illegal drugs and regulated/controlled substances\\n    4. Operation of critical infrastructure, transportation technologies, or heavy machinery\\n    5. Self-harm or harm to others, including suicide, cutting, and eating disorders\\n    6. Any content intended to incite or promote violence, abuse, or any infliction of bodily harm to an individual\\n\\n\\n\\n3. Intentionally deceive or mislead others, including use of Llama 2 related to the following:\\n    1. Generating, promoting, or furthering fraud or the creation or promotion of disinformation\\n    2. Generating, promoting, or furthering defamatory content, including the creation of defamatory statements, images, or other content\\n    3. Generating, promoting, or further distributing spam\\n    4. Impersonating another individual without consent, authorization, or legal right\\n    5. Representing that the use of Llama 2 or outputs are human-generated\\n    6. Generating or facilitating false online engagement, including fake reviews and other means of fake online engagement \\n4. Fail to appropriately disclose to end users any known dangers of your AI system \\n\\nPlease report any violation of this Policy, software “bug,” or other problems that could lead to a violation of this Policy through one of the following means:\\n\\n* Reporting issues with the model: [github.com/facebookresearch/llama](http://github.com/facebookresearch/llama)\\n* Reporting risky content generated by the model: [developers.facebook.com/llama_output_feedback](http://developers.facebook.com/llama_output_feedback)\\n* Reporting bugs and security concerns: [facebook.com/whitehat/info](http://facebook.com/whitehat/info)\\n* Reporting violations of the Acceptable Use Policy or unlicensed uses of Llama: [LlamaUseReport@meta.com](mailto:LlamaUseReport@meta.com)\\n\\n',\n",
       " 'modelfile': '# Modelfile generated by \"ollama show\"\\n# To build a new Modelfile based on this, replace FROM with:\\n# FROM llama2:7b\\n\\nFROM /usr/share/ollama/.ollama/models/blobs/sha256-8934d96d3f08982e95922b2b7a2c626a1fe873d7c3b06e8e56d7bc0a1fef9246\\nTEMPLATE \"[INST] <<SYS>>{{ .System }}<</SYS>>\\n\\n{{ .Prompt }} [/INST]\\n\"\\nPARAMETER stop [INST]\\nPARAMETER stop [/INST]\\nPARAMETER stop <<SYS>>\\nPARAMETER stop <</SYS>>\\nLICENSE \"\"\"LLAMA 2 COMMUNITY LICENSE AGREEMENT\\t\\nLlama 2 Version Release Date: July 18, 2023\\n\\n\"Agreement\" means the terms and conditions for use, reproduction, distribution and \\nmodification of the Llama Materials set forth herein.\\n\\n\"Documentation\" means the specifications, manuals and documentation \\naccompanying Llama 2 distributed by Meta at ai.meta.com/resources/models-and-\\nlibraries/llama-downloads/.\\n\\n\"Licensee\" or \"you\" means you, or your employer or any other person or entity (if \\nyou are entering into this Agreement on such person or entity\\'s behalf), of the age \\nrequired under applicable laws, rules or regulations to provide legal consent and that \\nhas legal authority to bind your employer or such other person or entity if you are \\nentering in this Agreement on their behalf.\\n\\n\"Llama 2\" means the foundational large language models and software and \\nalgorithms, including machine-learning model code, trained model weights, \\ninference-enabling code, training-enabling code, fine-tuning enabling code and other \\nelements of the foregoing distributed by Meta at ai.meta.com/resources/models-and-\\nlibraries/llama-downloads/.\\n\\n\"Llama Materials\" means, collectively, Meta\\'s proprietary Llama 2 and \\nDocumentation (and any portion thereof) made available under this Agreement.\\n\\n\"Meta\" or \"we\" means Meta Platforms Ireland Limited (if you are located in or, if you \\nare an entity, your principal place of business is in the EEA or Switzerland) and Meta \\nPlatforms, Inc. (if you are located outside of the EEA or Switzerland). \\n\\nBy clicking \"I Accept\" below or by using or distributing any portion or element of the \\nLlama Materials, you agree to be bound by this Agreement.\\n\\n1. License Rights and Redistribution. \\n\\n      a. Grant of Rights. You are granted a non-exclusive, worldwide, non-\\ntransferable and royalty-free limited license under Meta\\'s intellectual property or \\nother rights owned by Meta embodied in the Llama Materials to use, reproduce, \\ndistribute, copy, create derivative works of, and make modifications to the Llama \\nMaterials.  \\n      \\n      b. Redistribution and Use.  \\n\\n            i. If you distribute or make the Llama Materials, or any derivative works \\nthereof, available to a third party, you shall provide a copy of this Agreement to such \\nthird party. \\n            ii.  If you receive Llama Materials, or any derivative works thereof, from \\na Licensee as part of an integrated end user product, then Section 2 of this \\nAgreement will not apply to you. \\n\\n            iii. You must retain in all copies of the Llama Materials that you \\ndistribute the following attribution notice within a \"Notice\" text file distributed as a \\npart of such copies: \"Llama 2 is licensed under the LLAMA 2 Community License, \\nCopyright (c) Meta Platforms, Inc. All Rights Reserved.\"\\n\\n            iv. Your use of the Llama Materials must comply with applicable laws \\nand regulations (including trade compliance laws and regulations) and adhere to the \\nAcceptable Use Policy for the Llama Materials (available at \\nhttps://ai.meta.com/llama/use-policy), which is hereby incorporated by reference into \\nthis Agreement.\\n\\n            v. You will not use the Llama Materials or any output or results of the \\nLlama Materials to improve any other large language model (excluding Llama 2 or \\nderivative works thereof).  \\n\\n2. Additional Commercial Terms. If, on the Llama 2 version release date, the \\nmonthly active users of the products or services made available by or for Licensee, \\nor Licensee\\'s affiliates, is greater than 700 million monthly active users in the \\npreceding calendar month, you must request a license from Meta, which Meta may \\ngrant to you in its sole discretion, and you are not authorized to exercise any of the \\nrights under this Agreement unless or until Meta otherwise expressly grants you \\nsuch rights.\\n            \\n3. Disclaimer of Warranty. UNLESS REQUIRED BY APPLICABLE LAW, THE \\nLLAMA MATERIALS AND ANY OUTPUT AND RESULTS THEREFROM ARE \\nPROVIDED ON AN \"AS IS\" BASIS, WITHOUT WARRANTIES OF ANY KIND, \\nEITHER EXPRESS OR IMPLIED, INCLUDING, WITHOUT LIMITATION, ANY \\nWARRANTIES OF TITLE, NON-INFRINGEMENT, MERCHANTABILITY, OR \\nFITNESS FOR A PARTICULAR PURPOSE. YOU ARE SOLELY RESPONSIBLE \\nFOR DETERMINING THE APPROPRIATENESS OF USING OR REDISTRIBUTING \\nTHE LLAMA MATERIALS AND ASSUME ANY RISKS ASSOCIATED WITH YOUR \\nUSE OF THE LLAMA MATERIALS AND ANY OUTPUT AND RESULTS.\\n\\n4. Limitation of Liability. IN NO EVENT WILL META OR ITS AFFILIATES BE \\nLIABLE UNDER ANY THEORY OF LIABILITY, WHETHER IN CONTRACT, TORT, \\nNEGLIGENCE, PRODUCTS LIABILITY, OR OTHERWISE, ARISING OUT OF THIS \\nAGREEMENT, FOR ANY LOST PROFITS OR ANY INDIRECT, SPECIAL, \\nCONSEQUENTIAL, INCIDENTAL, EXEMPLARY OR PUNITIVE DAMAGES, EVEN \\nIF META OR ITS AFFILIATES HAVE BEEN ADVISED OF THE POSSIBILITY OF \\nANY OF THE FOREGOING.\\n \\n5. Intellectual Property.\\n\\n      a. No trademark licenses are granted under this Agreement, and in \\nconnection with the Llama Materials, neither Meta nor Licensee may use any name \\nor mark owned by or associated with the other or any of its affiliates, except as \\nrequired for reasonable and customary use in describing and redistributing the \\nLlama Materials.\\n\\n      b. Subject to Meta\\'s ownership of Llama Materials and derivatives made by or \\nfor Meta, with respect to any derivative works and modifications of the Llama \\nMaterials that are made by you, as between you and Meta, you are and will be the \\nowner of such derivative works and modifications.\\n\\n      c. If you institute litigation or other proceedings against Meta or any entity \\n(including a cross-claim or counterclaim in a lawsuit) alleging that the Llama \\nMaterials or Llama 2 outputs or results, or any portion of any of the foregoing, \\nconstitutes infringement of intellectual property or other rights owned or licensable \\nby you, then any licenses granted to you under this Agreement shall terminate as of \\nthe date such litigation or claim is filed or instituted. You will indemnify and hold \\nharmless Meta from and against any claim by any third party arising out of or related \\nto your use or distribution of the Llama Materials.\\n\\n6. Term and Termination. The term of this Agreement will commence upon your \\nacceptance of this Agreement or access to the Llama Materials and will continue in \\nfull force and effect until terminated in accordance with the terms and conditions \\nherein. Meta may terminate this Agreement if you are in breach of any term or \\ncondition of this Agreement. Upon termination of this Agreement, you shall delete \\nand cease use of the Llama Materials. Sections 3, 4 and 7 shall survive the \\ntermination of this Agreement. \\n\\n7. Governing Law and Jurisdiction. This Agreement will be governed and \\nconstrued under the laws of the State of California without regard to choice of law \\nprinciples, and the UN Convention on Contracts for the International Sale of Goods \\ndoes not apply to this Agreement. The courts of California shall have exclusive \\njurisdiction of any dispute arising out of this Agreement. \\n\\n\"\"\"\\nLICENSE \"# Llama 2 Acceptable Use Policy\\n\\nMeta is committed to promoting safe and fair use of its tools and features, including Llama 2. If you access or use Llama 2, you agree to this Acceptable Use Policy (“Policy”). The most recent copy of this policy can be found at [ai.meta.com/llama/use-policy](http://ai.meta.com/llama/use-policy).\\n\\n## Prohibited Uses\\nWe want everyone to use Llama 2 safely and responsibly. You agree you will not use, or allow others to use, Llama 2 to: \\n\\n1. Violate the law or others’ rights, including to:\\n    1. Engage in, promote, generate, contribute to, encourage, plan, incite, or further illegal or unlawful activity or content, such as: \\n        1. Violence or terrorism \\n        2. Exploitation or harm to children, including the solicitation, creation, acquisition, or dissemination of child exploitative content or failure to report Child Sexual Abuse Material\\n        3. Human trafficking, exploitation, and sexual violence\\n        4. The illegal distribution of information or materials to minors, including obscene materials, or failure to employ legally required age-gating in connection with such information or materials.\\n        5. Sexual solicitation\\n        6. Any other criminal activity\\n    2. Engage in, promote, incite, or facilitate the harassment, abuse, threatening, or bullying of individuals or groups of individuals\\n    3. Engage in, promote, incite, or facilitate discrimination or other unlawful or harmful conduct in the provision of employment, employment benefits, credit, housing, other economic benefits, or other essential goods and services\\n    4. Engage in the unauthorized or unlicensed practice of any profession including, but not limited to, financial, legal, medical/health, or related professional practices \\n    5. Collect, process, disclose, generate, or infer health, demographic, or other sensitive personal or private information about individuals without rights and consents required by applicable laws\\n    6. Engage in or facilitate any action or generate any content that infringes, misappropriates, or otherwise violates any third-party rights, including the outputs or results of any products or services using the Llama 2 Materials\\n    7. Create, generate, or facilitate the creation of malicious code, malware, computer viruses or do anything else that could disable, overburden, interfere with or impair the proper working, integrity, operation or appearance of a website or computer system \\n\\n\\n\\n2. Engage in, promote, incite, facilitate, or assist in the planning or development of activities that present a risk of death or bodily harm to individuals, including use of Llama 2 related to the following:\\n    1. Military, warfare, nuclear industries or applications, espionage, use for materials or activities that are subject to the International Traffic Arms Regulations (ITAR) maintained by the United States Department of State\\n    2. Guns and illegal weapons (including weapon development)\\n    3. Illegal drugs and regulated/controlled substances\\n    4. Operation of critical infrastructure, transportation technologies, or heavy machinery\\n    5. Self-harm or harm to others, including suicide, cutting, and eating disorders\\n    6. Any content intended to incite or promote violence, abuse, or any infliction of bodily harm to an individual\\n\\n\\n\\n3. Intentionally deceive or mislead others, including use of Llama 2 related to the following:\\n    1. Generating, promoting, or furthering fraud or the creation or promotion of disinformation\\n    2. Generating, promoting, or furthering defamatory content, including the creation of defamatory statements, images, or other content\\n    3. Generating, promoting, or further distributing spam\\n    4. Impersonating another individual without consent, authorization, or legal right\\n    5. Representing that the use of Llama 2 or outputs are human-generated\\n    6. Generating or facilitating false online engagement, including fake reviews and other means of fake online engagement \\n4. Fail to appropriately disclose to end users any known dangers of your AI system \\n\\nPlease report any violation of this Policy, software “bug,” or other problems that could lead to a violation of this Policy through one of the following means:\\n\\n* Reporting issues with the model: [github.com/facebookresearch/llama](http://github.com/facebookresearch/llama)\\n* Reporting risky content generated by the model: [developers.facebook.com/llama_output_feedback](http://developers.facebook.com/llama_output_feedback)\\n* Reporting bugs and security concerns: [facebook.com/whitehat/info](http://facebook.com/whitehat/info)\\n* Reporting violations of the Acceptable Use Policy or unlicensed uses of Llama: [LlamaUseReport@meta.com](mailto:LlamaUseReport@meta.com)\\n\\n\"\\n',\n",
       " 'parameters': 'stop                           \"[INST]\"\\nstop                           \"[/INST]\"\\nstop                           \"<<SYS>>\"\\nstop                           \"<</SYS>>\"',\n",
       " 'template': '[INST] <<SYS>>{{ .System }}<</SYS>>\\n\\n{{ .Prompt }} [/INST]\\n',\n",
       " 'details': {'parent_model': '',\n",
       "  'format': 'gguf',\n",
       "  'family': 'llama',\n",
       "  'families': ['llama'],\n",
       "  'parameter_size': '7B',\n",
       "  'quantization_level': 'Q4_0'},\n",
       " 'model_info': {'general.architecture': 'llama',\n",
       "  'general.file_type': 2,\n",
       "  'general.parameter_count': 6738415616,\n",
       "  'general.quantization_version': 2,\n",
       "  'llama.attention.head_count': 32,\n",
       "  'llama.attention.head_count_kv': 32,\n",
       "  'llama.attention.layer_norm_rms_epsilon': 1e-05,\n",
       "  'llama.block_count': 32,\n",
       "  'llama.context_length': 4096,\n",
       "  'llama.embedding_length': 4096,\n",
       "  'llama.feed_forward_length': 11008,\n",
       "  'llama.rope.dimension_count': 128,\n",
       "  'tokenizer.ggml.add_bos_token': True,\n",
       "  'tokenizer.ggml.add_eos_token': False,\n",
       "  'tokenizer.ggml.bos_token_id': 1,\n",
       "  'tokenizer.ggml.eos_token_id': 2,\n",
       "  'tokenizer.ggml.merges': None,\n",
       "  'tokenizer.ggml.model': 'llama',\n",
       "  'tokenizer.ggml.scores': None,\n",
       "  'tokenizer.ggml.token_type': None,\n",
       "  'tokenizer.ggml.tokens': None,\n",
       "  'tokenizer.ggml.unknown_token_id': 0},\n",
       " 'modified_at': '2024-09-24T19:11:36.201322216+05:30'}"
      ]
     },
     "execution_count": 8,
     "metadata": {},
     "output_type": "execute_result"
    }
   ],
   "source": [
    "model_details"
   ]
  },
  {
   "cell_type": "code",
   "execution_count": null,
   "metadata": {},
   "outputs": [],
   "source": [
    "# Load the model and tokenizer using the local path\n",
    "tokenizer = AutoTokenizer.from_pretrained(model_path, use_fast=False)\n",
    "model = AutoModelForCausalLM.from_pretrained(\n",
    "    model_path, \n",
    "    device_map=\"auto\",\n",
    "    torch_dtype=torch.float16 if device.type == \"cuda\" else torch.float32\n",
    ")\n"
   ]
  },
  {
   "cell_type": "code",
   "execution_count": null,
   "metadata": {},
   "outputs": [],
   "source": [
    "# Ensure the model is on the correct device\n",
    "model = model.to(device)\n"
   ]
  },
  {
   "cell_type": "code",
   "execution_count": null,
   "metadata": {},
   "outputs": [],
   "source": [
    "# Prepare your dataset\n",
    "dataset = load_dataset(\"csv\", data_files=\"your_dataset.csv\")\n",
    "\n",
    "def tokenize_function(examples):\n",
    "    return tokenizer(examples[\"text\"], truncation=True, padding=\"max_length\", max_length=512)\n",
    "\n",
    "tokenized_datasets = dataset.map(tokenize_function, batched=True, remove_columns=dataset[\"train\"].column_names)\n"
   ]
  },
  {
   "cell_type": "code",
   "execution_count": null,
   "metadata": {},
   "outputs": [],
   "source": [
    "# Set up LoRA configuration\n",
    "lora_config = LoraConfig(\n",
    "    r=16,\n",
    "    lora_alpha=32,\n",
    "    target_modules=[\"q_proj\", \"v_proj\"],\n",
    "    lora_dropout=0.05,\n",
    "    bias=\"none\",\n",
    "    task_type=\"CAUSAL_LM\"\n",
    ")\n",
    "\n",
    "# Apply LoRA to the model\n",
    "model = get_peft_model(model, lora_config)\n"
   ]
  },
  {
   "cell_type": "code",
   "execution_count": null,
   "metadata": {},
   "outputs": [],
   "source": [
    "# 6. Set up training arguments\n",
    "training_args = TrainingArguments(\n",
    "    output_dir=\"./results\",\n",
    "    num_train_epochs=3,\n",
    "    per_device_train_batch_size=4,\n",
    "    per_device_eval_batch_size=4,\n",
    "    warmup_steps=500,\n",
    "    weight_decay=0.01,\n",
    "    logging_dir=\"./logs\",\n",
    "    logging_steps=10,\n",
    "    learning_rate=1e-4,\n",
    "    save_strategy=\"epoch\",\n",
    "    evaluation_strategy=\"epoch\",\n",
    "    fp16=device.type == \"cuda\",  # Use mixed precision training if on GPU\n",
    "    gradient_accumulation_steps=4,  # Adjust based on your GPU memory\n",
    ")\n"
   ]
  },
  {
   "cell_type": "code",
   "execution_count": null,
   "metadata": {},
   "outputs": [],
   "source": [
    "\n",
    "# 7. Create the Trainer\n",
    "trainer = Trainer(\n",
    "    model=model,\n",
    "    args=training_args,\n",
    "    train_dataset=tokenized_datasets[\"train\"],\n",
    "    eval_dataset=tokenized_datasets[\"validation\"],\n",
    "    data_collator=DataCollatorForLanguageModeling(tokenizer=tokenizer, mlm=False),\n",
    ")\n"
   ]
  },
  {
   "cell_type": "code",
   "execution_count": null,
   "metadata": {},
   "outputs": [],
   "source": [
    "\n",
    "# 8. Start the fine-tuning process\n",
    "trainer.train()\n",
    "\n"
   ]
  },
  {
   "cell_type": "code",
   "execution_count": null,
   "metadata": {},
   "outputs": [],
   "source": [
    "# 9. Save the fine-tuned LoRA model\n",
    "model.save_pretrained(\"./fine_tuned_llama_2_7b_lora\")\n",
    "tokenizer.save_pretrained(\"./fine_tuned_llama_2_7b_lora\")\n",
    "\n",
    "# Print final GPU memory usage\n",
    "if device.type == \"cuda\":\n",
    "    print(f\"Final GPU memory usage: {torch.cuda.memory_allocated() / 1e9:.2f} GB\")"
   ]
  },
  {
   "cell_type": "code",
   "execution_count": null,
   "metadata": {},
   "outputs": [],
   "source": []
  },
  {
   "cell_type": "code",
   "execution_count": null,
   "metadata": {},
   "outputs": [],
   "source": []
  }
 ],
 "metadata": {
  "kernelspec": {
   "display_name": "Python 3",
   "language": "python",
   "name": "python3"
  },
  "language_info": {
   "codemirror_mode": {
    "name": "ipython",
    "version": 3
   },
   "file_extension": ".py",
   "mimetype": "text/x-python",
   "name": "python",
   "nbconvert_exporter": "python",
   "pygments_lexer": "ipython3",
   "version": "3.8.10"
  }
 },
 "nbformat": 4,
 "nbformat_minor": 2
}
