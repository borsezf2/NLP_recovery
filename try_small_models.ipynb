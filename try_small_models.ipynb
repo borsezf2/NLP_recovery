{
 "cells": [
  {
   "cell_type": "code",
   "execution_count": 1,
   "metadata": {},
   "outputs": [
    {
     "name": "stderr",
     "output_type": "stream",
     "text": [
      "/home/hb_admin/.local/lib/python3.8/site-packages/tqdm/auto.py:21: TqdmWarning: IProgress not found. Please update jupyter and ipywidgets. See https://ipywidgets.readthedocs.io/en/stable/user_install.html\n",
      "  from .autonotebook import tqdm as notebook_tqdm\n"
     ]
    }
   ],
   "source": [
    "from transformers import AutoTokenizer, AutoModelForCausalLM, GPT2LMHeadModel, GPT2Tokenizer\n",
    "\n",
    "import torch\n",
    "import time\n"
   ]
  },
  {
   "cell_type": "code",
   "execution_count": 2,
   "metadata": {},
   "outputs": [],
   "source": [
    "def measure_time(func):\n",
    "    def wrapper(*args, **kwargs):\n",
    "        start_time = time.time()\n",
    "        result = func(*args, **kwargs)\n",
    "        end_time = time.time()\n",
    "        print(f\"{func.__name__} time: {end_time - start_time:.2f} seconds\")\n",
    "        return result\n",
    "    return wrapper\n",
    "\n",
    "# @measure_time\n",
    "# def load_model_and_tokenizer(model_name):\n",
    "#     tokenizer = AutoTokenizer.from_pretrained(model_name)\n",
    "#     model = AutoModelForCausalLM.from_pretrained(model_name)\n",
    "#     return tokenizer, model\n",
    "\n",
    "\n",
    "@measure_time\n",
    "def load_model_and_tokenizer(model_name):\n",
    "    tokenizer = AutoTokenizer.from_pretrained(model_name)\n",
    "    model = AutoModelForCausalLM.from_pretrained(model_name)\n",
    "    return tokenizer, model\n",
    "\n",
    "@measure_time\n",
    "def generate_text(model, input_ids, max_length):\n",
    "    return model.generate(\n",
    "        input_ids, \n",
    "        max_length=max_length,\n",
    "        # num_return_sequences=1,\n",
    "        # no_repeat_ngram_size=2,\n",
    "        # repetition_penalty=1.2,\n",
    "        # temperature=0.7,\n",
    "        # top_k=50,\n",
    "        # top_p=0.95,\n",
    "        # do_sample=True\n",
    "    )"
   ]
  },
  {
   "cell_type": "code",
   "execution_count": 13,
   "metadata": {},
   "outputs": [
    {
     "name": "stderr",
     "output_type": "stream",
     "text": [
      "Special tokens have been added in the vocabulary, make sure the associated word embeddings are fine-tuned or trained.\n",
      "Downloading shards: 100%|██████████| 4/4 [11:28<00:00, 172.08s/it]\n",
      "Loading checkpoint shards: 100%|██████████| 4/4 [02:12<00:00, 33.14s/it]\n"
     ]
    },
    {
     "name": "stdout",
     "output_type": "stream",
     "text": [
      "load_model_and_tokenizer time: 829.72 seconds\n"
     ]
    }
   ],
   "source": [
    "# Load the model and tokenizer\n",
    "model_name = \"Qwen/Qwen2.5-Coder-7B-Instruct\"\n",
    "tokenizer, model = load_model_and_tokenizer(model_name)\n"
   ]
  },
  {
   "cell_type": "code",
   "execution_count": 14,
   "metadata": {},
   "outputs": [],
   "source": [
    "\n",
    "# Ask a coding question\n",
    "# prompt = \"A host at ip 10.5.16.212 has a unwanted process eating a lot of CPU usage, how to fix it.\"\n",
    "prompt = \"A host at ip 10.5.16.212 has a unwanted process eating a lot of CPU usage, give python code to fix it\"\n",
    "# Tokenize input and generate output\n",
    "# Tokenize the input\n",
    "input_ids = tokenizer(prompt, return_tensors=\"pt\").input_ids\n"
   ]
  },
  {
   "cell_type": "code",
   "execution_count": 15,
   "metadata": {},
   "outputs": [
    {
     "name": "stdout",
     "output_type": "stream",
     "text": [
      "generate_text time: 315.88 seconds\n"
     ]
    }
   ],
   "source": [
    "outputs = generate_text(model, input_ids, max_length=400)\n"
   ]
  },
  {
   "cell_type": "code",
   "execution_count": 16,
   "metadata": {},
   "outputs": [
    {
     "name": "stdout",
     "output_type": "stream",
     "text": [
      "\n",
      "Generated output:\n",
      "A host at ip 10.5.16.212 has a unwanted process eating a lot of CPU usage, give python code to fix it.\n",
      "To identify and kill the process consuming excessive CPU on a remote host using Python, you can use the `paramiko` library for SSH connections and the `psutil` library to monitor processes. Below is an example script that identifies the process with high CPU usage and kills it.\n",
      "\n",
      "First, ensure you have the required libraries installed:\n",
      "```sh\n",
      "pip install paramiko psutil\n",
      "```\n",
      "\n",
      "Here's the Python script:\n",
      "\n",
      "```python\n",
      "import paramiko\n",
      "import psutil\n",
      "\n",
      "def get_high_cpu_process(host, username, password):\n",
      "    # Create an SSH client\n",
      "    ssh_client = paramiko.SSHClient()\n",
      "    ssh_client.set_missing_host_key_policy(paramiko.AutoAddPolicy())\n",
      "    \n",
      "    try:\n",
      "        # Connect to the remote host\n",
      "        ssh_client.connect(host, username=username, password=password)\n",
      "        \n",
      "        # Execute the command to get processes sorted by CPU usage\n",
      "        stdin, stdout, stderr = ssh_client.exec_command('top -bn1 | head -n 10')\n",
      "        output = stdout.read().decode('utf-8')\n",
      "        \n",
      "        # Parse the output to find the process with high CPU usage\n",
      "        for line in output.split('\\n'):\n",
      "            if 'COMMAND' in line:\n",
      "                continue\n",
      "            parts = line.split()\n",
      "            if len(parts) >= 9:\n",
      "                cpu_usage = float(parts[8])\n",
      "                pid = int(parts[1])\n",
      "                process_name = ' '.join(parts[3:])\n",
      "                \n",
      "                if cpu_usage > 50:  # Adjust this threshold as needed\n",
      "                    return pid, process_name\n",
      "        \n",
      "        print(\"No process found with high CPU usage.\")\n",
      "        return None, None\n",
      "    \n",
      "    except Exception as e:\n",
      "        print(f\"Error connecting to {host}: {e}\")\n",
      "        return None, None\n",
      "    \n",
      "    finally:\n",
      "        # Close the SSH connection\n"
     ]
    }
   ],
   "source": [
    "# Decode and print the output\n",
    "generated_steps = tokenizer.decode(outputs[0], skip_special_tokens=True)\n",
    "print(\"\\nGenerated output:\")\n",
    "print(generated_steps)"
   ]
  },
  {
   "cell_type": "code",
   "execution_count": 27,
   "metadata": {},
   "outputs": [],
   "source": [
    "# # Decode and print the output\n",
    "# generated_steps = tokenizer.decode(outputs[0], skip_special_tokens=False)\n",
    "# print(\"\\nGenerated output:\")\n",
    "# print(generated_steps)"
   ]
  },
  {
   "cell_type": "code",
   "execution_count": null,
   "metadata": {},
   "outputs": [],
   "source": []
  },
  {
   "cell_type": "code",
   "execution_count": null,
   "metadata": {},
   "outputs": [],
   "source": [
    "# If the decoded output is empty, try decoding without skipping special tokens\n",
    "if not outputs:\n",
    "    generated_steps_with_special = tokenizer.decode(outputs[0], skip_special_tokens=False)\n",
    "    print(\"\\nDecoded output with special tokens:\")\n",
    "    print(generated_steps_with_special)\n"
   ]
  }
 ],
 "metadata": {
  "kernelspec": {
   "display_name": "Python 3",
   "language": "python",
   "name": "python3"
  },
  "language_info": {
   "codemirror_mode": {
    "name": "ipython",
    "version": 3
   },
   "file_extension": ".py",
   "mimetype": "text/x-python",
   "name": "python",
   "nbconvert_exporter": "python",
   "pygments_lexer": "ipython3",
   "version": "3.8.10"
  }
 },
 "nbformat": 4,
 "nbformat_minor": 2
}
